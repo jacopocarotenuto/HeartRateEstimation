{
 "cells": [
  {
   "cell_type": "markdown",
   "metadata": {},
   "source": [
    "# Project Outline\n",
    "1. Explaining Dataset\n",
    "2. Calibrate the data\n",
    "3. Clean the data (and why we clean the data)\n",
    "4. Plot the calibrate data\n",
    "5. Statistical Description\n",
    "6. PCA, why we do it and results\n",
    "7. Check the PCA \n",
    "8. Discrete Fourier + Filter (normal + gaussian)\n",
    "9. Wavelet + filter\n",
    "10. Alternative Method\n",
    "11. Results BPM from differents method + variability\n",
    "12. What is the best method and why"
   ]
  }
 ],
 "metadata": {
  "language_info": {
   "name": "python"
  }
 },
 "nbformat": 4,
 "nbformat_minor": 2
}
