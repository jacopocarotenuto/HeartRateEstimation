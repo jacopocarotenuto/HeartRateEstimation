{
 "cells": [
  {
   "cell_type": "code",
   "execution_count": 1,
   "metadata": {},
   "outputs": [],
   "source": [
    "# Libraries\n",
    "import seaborn as sns\n",
    "import numpy as np\n",
    "import pandas as pd\n",
    "import matplotlib.pyplot as plt\n",
    "from scipy import linalg\n",
    "from sklearn.manifold import TSNE \n",
    "from sklearn.decomposition import PCA\n",
    "from sklearn.decomposition import KernelPCA\n",
    "from sklearn.preprocessing import StandardScaler\n",
    "import scipy.fft as fft\n",
    "import scipy.signal as signal\n",
    "from sklearn.pipeline import Pipeline\n",
    "from pprint import pprint\n",
    "from datetime import datetime\n",
    "from scipy.signal import find_peaks\n",
    "import pywt\n",
    "from scipy import stats\n",
    "import matplotlib.mlab as mlab"
   ]
  },
  {
   "cell_type": "markdown",
   "metadata": {},
   "source": [
    "# Project Outline\n",
    "1. Explaining Dataset\n",
    "2. Calibrate the data\n",
    "3. Clean the data (and why we clean the data)\n",
    "4. Plot the calibrate data\n",
    "5. Statistical Description\n",
    "6. PCA, why we do it and results\n",
    "7. Check the PCA \n",
    "8. Discrete Fourier + Filter (normal + gaussian)\n",
    "9. Wavelet + filter\n",
    "10. Alternative Method\n",
    "11. Results BPM from differents method + variability\n",
    "12. What is the best method and why"
   ]
  },
  {
   "cell_type": "markdown",
   "metadata": {},
   "source": [
    "# Discrete Fourier Transform"
   ]
  },
  {
   "cell_type": "markdown",
   "metadata": {},
   "source": [
    "## Analyzing the Peaks\n",
    "\n",
    "After having applied the {Gaussian / Passband} filter we apply the inverse fourier transform and then analyze the peaks to find the BPM.  We can use the data transformed with the PCA method."
   ]
  },
  {
   "cell_type": "code",
   "execution_count": null,
   "metadata": {},
   "outputs": [],
   "source": [
    "for i in np.arange(inverse_fft_signal.shape[1]):\n",
    "    PlotPeak_and_Histogram(feature)"
   ]
  },
  {
   "cell_type": "markdown",
   "metadata": {},
   "source": [
    "# Alternative Method\n",
    "## Data Composition\n",
    "\n",
    "We also implemented another method to extrapolate the BPM from the data, using the fact that heart movement cause both a high linear and angular acceleration. We can see from the data that bot \"Acc\" and \"Gyro\" feature are composed of a low frequency component convoluted with a higher frequency component.\n",
    "## Subtracting the Baseline\n",
    "First we subtract the baseline low frequency component from a feature (here we use \"GyroX\" as an example, but we can use this method with all features)."
   ]
  },
  {
   "cell_type": "code",
   "execution_count": 3,
   "metadata": {},
   "outputs": [
    {
     "ename": "NameError",
     "evalue": "name 'cleaned_data' is not defined",
     "output_type": "error",
     "traceback": [
      "\u001b[0;31m---------------------------------------------------------------------------\u001b[0m",
      "\u001b[0;31mNameError\u001b[0m                                 Traceback (most recent call last)",
      "Cell \u001b[0;32mIn[3], line 6\u001b[0m\n\u001b[1;32m      1\u001b[0m \u001b[38;5;66;03m# Given that \"cleaned_data\" si the trucnated data\u001b[39;00m\n\u001b[1;32m      2\u001b[0m \n\u001b[1;32m      3\u001b[0m \u001b[38;5;66;03m# Plot the data to showcase the low and high frequency component, using \"GyroX\" time-series as an example\u001b[39;00m\n\u001b[1;32m      5\u001b[0m fig, ax \u001b[38;5;241m=\u001b[39m plt\u001b[38;5;241m.\u001b[39msubplots(figsize\u001b[38;5;241m=\u001b[39m(\u001b[38;5;241m20\u001b[39m,\u001b[38;5;241m5\u001b[39m))\n\u001b[0;32m----> 6\u001b[0m ax\u001b[38;5;241m.\u001b[39mplot(\u001b[43mcleaned_data\u001b[49m[\u001b[38;5;124m\"\u001b[39m\u001b[38;5;124mTime\u001b[39m\u001b[38;5;124m\"\u001b[39m]\u001b[38;5;241m.\u001b[39mvalues, cleaned_data[\u001b[38;5;124m\"\u001b[39m\u001b[38;5;124mGyroX\u001b[39m\u001b[38;5;124m\"\u001b[39m]\u001b[38;5;241m.\u001b[39mvalues)\n\u001b[1;32m      7\u001b[0m ax\u001b[38;5;241m.\u001b[39mset_title(\u001b[38;5;124m\"\u001b[39m\u001b[38;5;124mGyroX in function of time\u001b[39m\u001b[38;5;124m\"\u001b[39m)\n\u001b[1;32m      8\u001b[0m ax\u001b[38;5;241m.\u001b[39mset_ylabel(\u001b[38;5;124m\"\u001b[39m\u001b[38;5;124mGyroX\u001b[39m\u001b[38;5;124m\"\u001b[39m)\n",
      "\u001b[0;31mNameError\u001b[0m: name 'cleaned_data' is not defined"
     ]
    },
    {
     "data": {
      "image/png": "[encoded data removed]",
      "text/plain": [
       "<Figure size 2000x500 with 1 Axes>"
      ]
     },
     "metadata": {},
     "output_type": "display_data"
    }
   ],
   "source": [
    "# Given that \"cleaned_data\" si the trucnated data\n",
    "\n",
    "# Plot the data to showcase the low and high frequency component, using \"GyroX\" time-series as an example\n",
    "\n",
    "fig, ax = plt.subplots(figsize=(20,5))\n",
    "ax.plot(cleaned_data[\"Time\"].values, cleaned_data[\"GyroX\"].values)\n",
    "ax.set_title(\"GyroX in function of time\")\n",
    "ax.set_ylabel(\"GyroX\")\n",
    "ax.set_xlabel(\"Time\")"
   ]
  },
  {
   "cell_type": "markdown",
   "metadata": {},
   "source": [
    "## Finding the peaks\n",
    "We can see that the data is characterized by a higher frequency component. We can analyze it's peaks to extrapolate the it's frequency.\n",
    "First, we euristically determine a thresold to isolate the peaks, and take care to count only one peak per beat (heart beat has a two peak frequency), as seen in the plot above.\n",
    "We can also, after having isolated the peaks, plot the histogram of the inverse periods (so the frequencies) of the individual peaks."
   ]
  },
  {
   "cell_type": "code",
   "execution_count": 4,
   "metadata": {},
   "outputs": [
    {
     "ename": "NameError",
     "evalue": "name 'cleaned_data' is not defined",
     "output_type": "error",
     "traceback": [
      "\u001b[0;31m---------------------------------------------------------------------------\u001b[0m",
      "\u001b[0;31mNameError\u001b[0m                                 Traceback (most recent call last)",
      "Cell \u001b[0;32mIn[4], line 2\u001b[0m\n\u001b[1;32m      1\u001b[0m \u001b[38;5;66;03m# Plot the peaks and the hsitogram of the frequency, and calculate the important values (for the main dataset)\u001b[39;00m\n\u001b[0;32m----> 2\u001b[0m PlotPeak_and_Histogram(\u001b[43mcleaned_data\u001b[49m[\u001b[38;5;124m\"\u001b[39m\u001b[38;5;124mGyroX\u001b[39m\u001b[38;5;124m\"\u001b[39m],ht\u001b[38;5;241m=\u001b[39m\u001b[38;5;241m4\u001b[39m,lt\u001b[38;5;241m=\u001b[39m\u001b[38;5;241m-\u001b[39m\u001b[38;5;241m4\u001b[39m,plot\u001b[38;5;241m=\u001b[39m\u001b[38;5;28;01mTrue\u001b[39;00m,mean_frequency\u001b[38;5;241m=\u001b[39mmean_frequency);\n",
      "\u001b[0;31mNameError\u001b[0m: name 'cleaned_data' is not defined"
     ]
    }
   ],
   "source": [
    "# Plot the peaks and the hsitogram of the frequency, and calculate the important values (for the main dataset)\n",
    "PlotPeak_and_Histogram(cleaned_data[\"GyroX\"],ht=4,lt=-4,plot=True,mean_frequency=mean_frequency);"
   ]
  },
  {
   "cell_type": "markdown",
   "metadata": {},
   "source": [
    "This method is useful in the way that is robust against noise and setup, but the threshold must be set according to the real-world setup and the physics involved in the data acquisition. The same amplitude cannot be shared among datasets as the maximum amplitude changes according to the position of the subject. After analyzing the dataset, a reasonable threshold can be set and the analysis subsequently performed.\n",
    "As seen here, we can estimate a BPM of {BPM} from the \"GyroX\" feature, and a similar estimate (with different threshold) can be obtained.\n"
   ]
  },
  {
   "cell_type": "markdown",
   "metadata": {},
   "source": [
    "## Results\n"
   ]
  },
  {
   "cell_type": "markdown",
   "metadata": {},
   "source": [
    "# Helper Functions"
   ]
  },
  {
   "cell_type": "code",
   "execution_count": 5,
   "metadata": {},
   "outputs": [],
   "source": [
    "# Helper Functions\n",
    "\n",
    "def running_mean(x, N):\n",
    "    cumsum = np.cumsum(np.insert(x, 0, 0)) \n",
    "    return (cumsum[N:] - cumsum[:-N]) / float(N)\n",
    "\n",
    "def Peaks(time_series,window=50,ht = 0.5, lt = -0.5,min_dis = 80,ax = False,plot=False,mean_frequency = 200):\n",
    "    \"\"\"Function to extrapolate the peaks from a time series, and optionally plot them\"\"\"\n",
    "    \n",
    "    time_series = time_series.values # Get only the numpy array\n",
    "    moving_mean = running_mean(time_series,window) # Calculate moving average\n",
    "    time_series = (time_series[int(window/2)-1:-int(window/2)] - moving_mean) # Subtract moving average from dataset\n",
    "    minima_index, _ = signal.find_peaks(-time_series,-lt,distance=min_dis) # Find minima\n",
    "    BPM_low = minima_index.shape[0]/(time_series.shape[0]/mean_frequency)*60 # Calculate mean BPM from minima\n",
    "    maxima_index, _ = signal.find_peaks(time_series,ht,distance=min_dis) # Find maxima\n",
    "    BPM_high = maxima_index.shape[0]/(time_series.shape[0]/mean_frequency)*60 # Calculate mean BPM from maxima\n",
    "    \n",
    "    if plot:\n",
    "        if ax:\n",
    "            pass\n",
    "        else:\n",
    "            fig, ax = plt.subplots(figsize=(20,5))\n",
    "        ax.set_xlabel(\"Time in Sample Number\")\n",
    "        ax.set_ylabel(\"Distance from Moving Average\")\n",
    "        ax.plot(time_series)\n",
    "        ax.hlines(lt,0,time_series.shape[0])\n",
    "        ax.scatter(minima_index, time_series[minima_index],c = \"red\",s=10)\n",
    "        ax.hlines(ht,0,time_series.shape[0])\n",
    "        ax.scatter(maxima_index, time_series[maxima_index],c = \"red\",s=10)\n",
    "\n",
    "    print(\"Estimated BPM from lower peaks: \", int(BPM_low))\n",
    "    print(\"Estimated BPM from higher peaks: \", int(BPM_high))\n",
    "    print(\"Estimated Mean BPM from peaks: \", int((BPM_low + BPM_high)/2))\n",
    "    return (BPM_low, BPM_high)\n",
    "\n",
    "def PeaksHist(time_series,window=50,ht = 0.5, lt = -0.5,min_dis = 80,ax = False,plot=False,mean_frequency = 200):\n",
    "\n",
    "    time_series = time_series.values  # Get only the numpy array\n",
    "    moving_mean = running_mean(time_series,window) # Calculate moving average\n",
    "    time_series = (time_series[int(window/2)-1:-int(window/2)] - moving_mean) # Subtract moving average from dataset\n",
    "    minima_index, _ = signal.find_peaks(-time_series,-lt,distance=min_dis) # Find minima\n",
    "    BPM_low = minima_index.shape[0]/(time_series.shape[0]/mean_frequency)*60 # Calculate mean BPM from minima\n",
    "    maxima_index, _ = signal.find_peaks(time_series,ht,distance=min_dis) # Find maxima\n",
    "    BPM_high = maxima_index.shape[0]/(time_series.shape[0]/mean_frequency)*60 # Calculate mean BPM from maxima\n",
    "    BPM = mean_frequency/np.array([maxima_index[i] - maxima_index[i-1] for i in range(1,len(maxima_index))])*60 # Calculate BPM from periods\n",
    "    (mu,sigma) = stats.norm.fit(BPM) # Fit a gaussian to the periods\n",
    "    print(f\"Mean BPM from histogram: {round(mu,2)}, Standard Deviation: {round(sigma,2)}\")\n",
    "    \n",
    "    if plot:\n",
    "        if ax:\n",
    "            pass\n",
    "        else:\n",
    "            fig, ax = plt.subplots(figsize=(20,5))\n",
    "        \n",
    "\n",
    "        h = np.histogram(BPM,bins=30)\n",
    "        width=h[1][1] - h[1][0]\n",
    "        ax.axvspan(BPM_low,BPM_high,color=\"#F8D5D8\", alpha=0.7)\n",
    "        ax.bar(h[1][0:-1],h[0]/(np.sum(h[0])),align=\"edge\",width=width)\n",
    "        ax.plot(h[1][0:-1], stats.norm(mu,sigma).pdf(h[1][0:-1]), 'k-', lw=2)\n",
    "        ax.set_title(\"BPM from the periods\")\n",
    "        ax.set_xlabel(\"BPM\")\n",
    "        ax.set_ylabel(\"Normalised Occurences\")\n",
    "\n",
    "    return (mu,sigma)\n",
    "        \n",
    "def PlotPeak_and_Histogram(time_series,window=50,ht = 0.5, lt = -0.5,min_dis = 80,ax = False,mean_frequency = 200):\n",
    "    \"\"\" Function to plot the peaks and the resulting frequency histogram from the dataset\"\"\"\n",
    "    fig, (ax1,ax2) = plt.subplots(2,1, figsize=(20,10))\n",
    "    BPM_low, BPM_high = Peaks(time_series,window=window,ht=ht,lt=lt,min_dis=min_dis,ax = ax1,plot=True,mean_frequency = mean_frequency)\n",
    "    mu, sigma = PeaksHist(time_series,window=window,ht=ht,lt=lt,min_dis=min_dis,ax = ax2,plot=True,mean_frequency = mean_frequency)\n",
    "    return (BPM_low, BPM_high, mu, sigma)"
   ]
  },
  {
   "cell_type": "code",
   "execution_count": null,
   "metadata": {},
   "outputs": [],
   "source": []
  }
 ],
 "metadata": {
  "kernelspec": {
   "display_name": "CompLab",
   "language": "python",
   "name": "python3"
  },
  "language_info": {
   "codemirror_mode": {
    "name": "ipython",
    "version": 3
   },
   "file_extension": ".py",
   "mimetype": "text/x-python",
   "name": "python",
   "nbconvert_exporter": "python",
   "pygments_lexer": "ipython3",
   "version": "3.9.18"
  }
 },
 "nbformat": 4,
 "nbformat_minor": 2
}
